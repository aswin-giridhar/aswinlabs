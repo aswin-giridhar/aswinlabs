{
 "cells": [
  {
   "cell_type": "markdown",
   "metadata": {},
   "source": [
    "# \"Easy sharing and installation of packages for Python using pip and anaconda\"\n",
    "> \"Sharing and Installing python packages \"\n",
    "\n",
    "- toc: false\n",
    "- branch: master\n",
    "- badges: false\n",
    "- comments: true\n",
    "- categories: [python, packages]\n",
    "- image: false\n",
    "- hide: false\n",
    "- search_exclude: true\n",
    "- metadata_key1: metadata_value1\n",
    "- metadata_key2: metadata_value2"
   ]
  },
  {
   "cell_type": "markdown",
   "metadata": {},
   "source": [
    "<h3>Python Package Sharing and installion using Pip</h3>\n",
    "<p>Sharing of the list of python packages can be done by running the following commands in the terminal using pip</p>\n",
    "\n",
    "<h4>On the sender side</h4>\n",
    "\n",
    "<p>This user has to run the below command to gather all the packages which are being used in his/her project. Te hcommand then creates a .txt file with the list of python packages which can then be easily shared with others.</p>\n",
    "\n",
    "<blockquote>$ pip freeze > requirements.txt</blockquote>\n",
    "\n",
    "<h4>On the receiver side</h4>\n",
    "\n",
    "<p>This user has to run the below command to install all the packages which are present in the requirements.txt file.</p>\n",
    "\n",
    "<blockquote>$ pip install -r requirements.txt</blockquote>\n"
   ]
  },
  {
   "cell_type": "markdown",
   "metadata": {},
   "source": [
    "<h3>Python Package Sharing and installion using Anaconda</h3>\n",
    "\n",
    "<p>Sharing of the list of python packages can be done by running the following commands in the terminal using Anaconda</p>\n",
    "\n",
    "<h4>On the sender side</h4>\n",
    "\n",
    "<p>This command creates an yml file of with the list of all python and anaconda packages which are being used in the project environment which can then be shared with others.</p>\n",
    "\n",
    "<blockquote>$ conda env export > environment.yml</blockquote>\n",
    "\n",
    "<h4>On the receiver side</h4>\n",
    "\n",
    "<p>This user has to run the below command to install all the packages which are present in the environment.yml file.</p>\n",
    "\n",
    "<blockquote>$ conda env create -f environment.yml</blockquote>"
   ]
  }
 ],
 "metadata": {
  "kernelspec": {
   "display_name": "Python 3",
   "language": "python",
   "name": "python3"
  }
 },
 "nbformat": 4,
 "nbformat_minor": 2
}
